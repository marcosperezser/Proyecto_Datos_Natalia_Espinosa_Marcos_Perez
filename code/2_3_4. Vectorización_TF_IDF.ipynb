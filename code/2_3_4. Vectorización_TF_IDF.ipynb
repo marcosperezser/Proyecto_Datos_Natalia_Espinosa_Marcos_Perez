{
  "cells": [
    {
      "cell_type": "code",
      "execution_count": null,
      "metadata": {
        "id": "321Dyz488QTY"
      },
      "outputs": [],
      "source": [
        "import pandas as pd\n",
        "import matplotlib.pyplot as plt\n",
        "import seaborn as sns\n",
        "import nltk\n",
        "from nltk.corpus import stopwords\n",
        "from sklearn.feature_extraction.text import TfidfVectorizer\n",
        "import pandas as pd\n",
        "import nltk\n",
        "from nltk.corpus import stopwords\n",
        "from nltk.tokenize import word_tokenize\n",
        "from nltk.stem import WordNetLemmatizer\n",
        "import re\n",
        "from sklearn.feature_extraction.text import TfidfVectorizer\n",
        "import gensim\n",
        "from gensim.models import Word2Vec\n",
        "import numpy as np\n",
        "from transformers import AutoTokenizer, AutoModel\n",
        "import torch\n",
        "import matplotlib.pyplot as plt"
      ]
    },
    {
      "cell_type": "code",
      "execution_count": null,
      "metadata": {
        "id": "ItSWltVR8YlL"
      },
      "outputs": [],
      "source": [
        "path_to_json = 'full_format_recipes.json'\n",
        "data = pd.read_json(path_to_json)"
      ]
    },
    {
      "cell_type": "code",
      "execution_count": null,
      "metadata": {
        "colab": {
          "base_uri": "https://localhost:8080/"
        },
        "id": "K2n_5z-L9dZq",
        "outputId": "1f99cb1d-002c-44ea-e3d6-070778b1980f"
      },
      "outputs": [
        {
          "name": "stderr",
          "output_type": "stream",
          "text": [
            "[nltk_data] Downloading package punkt to /root/nltk_data...\n",
            "[nltk_data]   Unzipping tokenizers/punkt.zip.\n",
            "[nltk_data] Downloading package stopwords to /root/nltk_data...\n",
            "[nltk_data]   Unzipping corpora/stopwords.zip.\n",
            "[nltk_data] Downloading package wordnet to /root/nltk_data...\n",
            "[nltk_data] Downloading package punkt_tab to /root/nltk_data...\n",
            "[nltk_data]   Unzipping tokenizers/punkt_tab.zip.\n"
          ]
        },
        {
          "data": {
            "text/plain": [
              "True"
            ]
          },
          "execution_count": 4,
          "metadata": {},
          "output_type": "execute_result"
        }
      ],
      "source": [
        "# Descargamos recursos de NLTK\n",
        "nltk.download('punkt')\n",
        "nltk.download('stopwords')\n",
        "nltk.download('wordnet')\n",
        "nltk.download('punkt_tab')"
      ]
    },
    {
      "cell_type": "code",
      "execution_count": null,
      "metadata": {
        "colab": {
          "base_uri": "https://localhost:8080/"
        },
        "id": "Xq1o2lgL9RJM",
        "outputId": "bbbc7354-fe92-47e9-db90-8251a8506735"
      },
      "outputs": [
        {
          "name": "stdout",
          "output_type": "stream",
          "text": [
            "Número de descripciones disponibles: 10608\n",
            "Número de direcciones disponibles: 10608\n"
          ]
        },
        {
          "name": "stderr",
          "output_type": "stream",
          "text": [
            "<ipython-input-5-6b75be1a75eb>:31: SettingWithCopyWarning: \n",
            "A value is trying to be set on a copy of a slice from a DataFrame.\n",
            "Try using .loc[row_indexer,col_indexer] = value instead\n",
            "\n",
            "See the caveats in the documentation: https://pandas.pydata.org/pandas-docs/stable/user_guide/indexing.html#returning-a-view-versus-a-copy\n",
            "  data_clean['desc_preprocessed'] =  [preprocess_text(desc) for desc in descripciones]\n",
            "<ipython-input-5-6b75be1a75eb>:32: SettingWithCopyWarning: \n",
            "A value is trying to be set on a copy of a slice from a DataFrame.\n",
            "Try using .loc[row_indexer,col_indexer] = value instead\n",
            "\n",
            "See the caveats in the documentation: https://pandas.pydata.org/pandas-docs/stable/user_guide/indexing.html#returning-a-view-versus-a-copy\n",
            "  data_clean['dir_preprocessed'] =  [preprocess_text(direction) for direction in direcciones]\n"
          ]
        }
      ],
      "source": [
        "stop_words = set(stopwords.words('english'))\n",
        "lemmatizer = WordNetLemmatizer()\n",
        "\n",
        "def preprocess_text(text):\n",
        "    if isinstance(text, list):\n",
        "        text = ' '.join(text)\n",
        "    # Tokenización\n",
        "    tokens = word_tokenize(text)\n",
        "    # Convertimos a minúsculas y eliminar caracteres especiales\n",
        "    tokens = [token.lower() for token in tokens if token.isalnum()]\n",
        "    # Eliminamos números seguidos de un punto (ej. 1., 2.)\n",
        "    tokens = [token for token in tokens if not re.match(r'^\\d+\\.$', token)]\n",
        "\n",
        "    # Eliminamos stopwords\n",
        "    tokens = [token for token in tokens if token not in stop_words]\n",
        "    # Lematización\n",
        "    tokens = [lemmatizer.lemmatize(token) for token in tokens]\n",
        "    return tokens\n",
        "\n",
        "\n",
        "#Reducimos la base de datos eliminando valores nulos\n",
        "data.replace(r'^\\s*$', np.nan, regex=True, inplace=True)  # Reemplazamos cadenas vacías por NaN\n",
        "data_clean = data.dropna()\n",
        "\n",
        "descripciones = data_clean['desc'].tolist()\n",
        "print('Número de descripciones disponibles:', len(descripciones))\n",
        "\n",
        "direcciones = data_clean['directions'].tolist()\n",
        "print('Número de direcciones disponibles:', len(direcciones))\n",
        "\n",
        "\n",
        "#Aplicamos el preprocesado de datos a las columnas de directions y desc\n",
        "data_clean['desc_preprocessed'] =  [preprocess_text(desc) for desc in descripciones]\n",
        "data_clean['dir_preprocessed'] =  [preprocess_text(direction) for direction in direcciones]\n",
        "\n",
        "\n"
      ]
    },
    {
      "cell_type": "code",
      "execution_count": null,
      "metadata": {
        "colab": {
          "base_uri": "https://localhost:8080/"
        },
        "id": "Ja_JqGaJxK4k",
        "outputId": "1a16393b-a0d9-4838-f33e-b3d90759106d"
      },
      "outputs": [],
      "source": [
        "dir_preprocessed = data_clean['dir_preprocessed'].tolist()\n",
        "print(dir_preprocessed)\n",
        "\n",
        "desc_preprocessed = data_clean['desc_preprocessed'].tolist()\n",
        "print(desc_preprocessed)"
      ]
    },
    {
      "cell_type": "code",
      "execution_count": null,
      "metadata": {
        "colab": {
          "base_uri": "https://localhost:8080/"
        },
        "id": "kChELQ3AC9ar",
        "outputId": "15f7bde4-76b8-4967-8ba7-87348965552e"
      },
      "outputs": [
        {
          "name": "stdout",
          "output_type": "stream",
          "text": [
            "The dictionary contains 6946 terms\n",
            "First terms in the dictionary:\n",
            "0 : 1\n",
            "1 : 15\n",
            "2 : 2\n",
            "3 : 3\n",
            "4 : 30\n",
            "5 : 4\n",
            "6 : 5\n",
            "7 : 8\n",
            "8 : 9\n",
            "9 : add\n"
          ]
        }
      ],
      "source": [
        "# Creamos el diccionario para los tokens de descriptions\n",
        "D = gensim.corpora.Dictionary(dir_preprocessed)\n",
        "n_tokens = len(D)\n",
        "\n",
        "print('The dictionary contains', n_tokens, 'terms')\n",
        "print('First terms in the dictionary:')\n",
        "for n in range(10):\n",
        "    print(str(n), ':', D[n])\n",
        "\n"
      ]
    },
    {
      "cell_type": "code",
      "execution_count": null,
      "metadata": {
        "colab": {
          "base_uri": "https://localhost:8080/"
        },
        "id": "eLOiA71dFSxr",
        "outputId": "b0523c10-aa48-4c14-e11b-bd018ec1698f"
      },
      "outputs": [
        {
          "name": "stdout",
          "output_type": "stream",
          "text": [
            "The dictionary contains 2314 terms\n",
            "First terms in the dictionary:\n",
            "0 : 1\n",
            "1 : 15\n",
            "2 : 2\n",
            "3 : 3\n",
            "4 : 30\n",
            "5 : 4\n",
            "6 : 5\n",
            "7 : 8\n",
            "8 : 9\n",
            "9 : add\n",
            "10 : ahead\n",
            "11 : around\n",
            "12 : arrange\n",
            "13 : atop\n",
            "14 : bake\n",
            "15 : bay\n",
            "16 : begin\n",
            "17 : boiling\n",
            "18 : bowl\n",
            "19 : bread\n"
          ]
        }
      ],
      "source": [
        "\n",
        "no_below = 10 #Numero minimo de veces que tiene que salir una palabra para meterlo al diccionario\n",
        "no_above = .75 #Porcentaje maximo de veces que puede salir una palabra para meterlo al diccionario\n",
        "\n",
        "D.filter_extremes(no_below=no_below, no_above=no_above, keep_n=25000)\n",
        "n_tokens = len(D)\n",
        "\n",
        "print('The dictionary contains', n_tokens, 'terms')\n",
        "print('First terms in the dictionary:')\n",
        "for n in range(20):\n",
        "    print(str(n), ':', D[n])"
      ]
    },
    {
      "cell_type": "code",
      "execution_count": null,
      "metadata": {
        "id": "M-HPHts8Fn8f"
      },
      "outputs": [],
      "source": [
        "corpus_bow = [D.doc2bow(doc) for doc in dir_preprocessed]"
      ]
    },
    {
      "cell_type": "code",
      "execution_count": null,
      "metadata": {
        "colab": {
          "base_uri": "https://localhost:8080/"
        },
        "id": "y_IJ4oVpF4h8",
        "outputId": "9ad6b4d1-96d2-40e4-845a-a1f835fc5b4a"
      },
      "outputs": [
        {
          "name": "stdout",
          "output_type": "stream",
          "text": [
            "dir\n",
            "10608\n",
            "1 pour boiling water couscous salt cover let stand 10 minute using regular couscous soaking toss 1 tablespoon vegetable oil place colander steam boiling water stirring occasionally 20 minute stir fluff 2 stir sugar cinnamon butter pour couscous toss coat gradually add enough milk moisten couscous 3 mound couscous large platter sprinkle additional cinnamon individual serving pack custard cup invert onto serving plate add cup raisin cup chopped pitted date cup chopped dried apricot cup chopped blanched almond cup chopped walnut cup pine nut mounded couscous featured special occasion wedding bar mitzvah pack half couscous mixture large bowl sprinkle cup ground toasted blanched almond top remaining couscous invert onto serving platter sprinkle ground cinnamon garnish datils rellenos\n",
            "Sparse vector representation:\n",
            "corpus\n",
            "10608\n",
            "[(0, 2), (2, 1), (3, 1), (9, 2), (17, 2), (18, 1), (21, 1), (32, 1), (42, 1), (51, 2), (54, 1), (63, 1), (65, 1), (66, 1), (73, 1), (75, 2), (87, 1), (91, 1), (105, 3), (106, 1), (107, 2), (108, 1), (113, 1), (118, 2), (126, 4), (131, 1), (147, 1), (166, 1), (168, 1), (170, 2), (173, 1), (184, 1), (198, 2), (210, 1), (241, 8), (249, 2), (255, 2), (259, 3), (267, 1), (300, 1), (340, 1), (384, 1), (414, 1), (434, 1), (442, 1), (487, 1), (506, 1), (554, 1), (559, 1), (593, 1), (601, 3), (656, 2), (660, 1), (685, 1), (697, 2), (752, 1), (939, 1), (1007, 1), (1081, 1), (1232, 1), (1320, 1), (1509, 1), (1535, 1), (1572, 2), (1581, 2), (1795, 8), (1796, 1), (1989, 1), (2136, 1)]\n",
            "Word counts:\n",
            "[('1', 2), ('2', 1), ('3', 1), ('add', 2), ('boiling', 2), ('bowl', 1), ('butter', 1), ('cover', 1), ('garnish', 1), ('large', 2), ('let', 1), ('mixture', 1), ('occasionally', 1), ('oil', 1), ('place', 1), ('platter', 2), ('remaining', 1), ('salt', 1), ('sprinkle', 3), ('stand', 1), ('stir', 2), ('stirring', 1), ('top', 1), ('water', 2), ('chopped', 4), ('half', 1), ('coat', 1), ('sugar', 1), ('tablespoon', 1), ('toss', 2), ('vegetable', 1), ('enough', 1), ('pour', 2), ('10', 1), ('cup', 8), ('invert', 2), ('onto', 2), ('serving', 3), ('using', 1), ('gradually', 1), ('plate', 1), ('apricot', 1), ('20', 1), ('colander', 1), ('additional', 1), ('milk', 1), ('toasted', 1), ('walnut', 1), ('raisin', 1), ('moisten', 1), ('cinnamon', 3), ('ground', 2), ('nut', 1), ('custard', 1), ('almond', 2), ('steam', 1), ('dried', 1), ('mound', 1), ('soaking', 1), ('date', 1), ('pine', 1), ('bar', 1), ('pitted', 1), ('blanched', 2), ('pack', 2), ('couscous', 8), ('fluff', 1), ('individual', 1), ('regular', 1)]\n"
          ]
        }
      ],
      "source": [
        "n_project = 1000\n",
        "print(\"dir\")\n",
        "print(len(dir_preprocessed))\n",
        "print(' '.join(dir_preprocessed[n_project]))\n",
        "print('Sparse vector representation:')\n",
        "print(\"corpus\")\n",
        "print(len(corpus_bow))\n",
        "print(corpus_bow[n_project])\n",
        "print('Word counts:')\n",
        "print(list(map(lambda x: (D[x[0]], x[1]), corpus_bow[n_project])))\n"
      ]
    },
    {
      "cell_type": "code",
      "execution_count": null,
      "metadata": {
        "id": "BXn193lWGPBh"
      },
      "outputs": [],
      "source": [
        "#Representación de los tokens para DIRECTIONS\n",
        "# SORTED TOKEN FREQUENCIES (I):\n",
        "# Create a \"flat\" corpus with all tuples in a single list\n",
        "corpus_bow_flat = [item for sublist in corpus_bow for item in sublist]\n",
        "\n",
        "# Initialize a numpy array that we will use to count tokens.\n",
        "# token_count[n] should store the number of ocurrences of the n-th token, D[n]\n",
        "token_count = np.zeros(n_tokens)\n",
        "\n",
        "# Count the number of occurrences of each token.\n",
        "for x in corpus_bow_flat:\n",
        "    # Update the proper element in token_count\n",
        "    # scode: <FILL IN>\n",
        "    token_count[x[0]] += x[1]\n",
        "\n",
        "# Sort by decreasing number of occurences\n",
        "ids_sorted = np.argsort(- token_count)\n",
        "tf_sorted = token_count[ids_sorted]"
      ]
    },
    {
      "cell_type": "code",
      "execution_count": null,
      "metadata": {
        "colab": {
          "base_uri": "https://localhost:8080/",
          "height": 472
        },
        "id": "41H-uCtqGgQc",
        "outputId": "9aec5c1a-20d1-4316-80e2-615a1595319f"
      },
      "outputs": [
        {
          "data": {
            "image/png": "[encoded data removed]",
            "text/plain": [
              "<Figure size 640x480 with 1 Axes>"
            ]
          },
          "metadata": {},
          "output_type": "display_data"
        }
      ],
      "source": [
        "# SORTED TOKEN FREQUENCIES (II):\n",
        "plt.rcdefaults()\n",
        "\n",
        "n_art = len(data)\n",
        "n_bins = 25\n",
        "hot_tokens = [D[i] for i in ids_sorted[n_bins-1::-1]]\n",
        "y_pos = np.arange(len(hot_tokens))\n",
        "z = tf_sorted[n_bins-1::-1]/n_art\n",
        "\n",
        "plt.figure()\n",
        "plt.barh(y_pos, z, align='center', alpha=0.4)\n",
        "plt.yticks(y_pos, hot_tokens)\n",
        "plt.xlabel('Average number of occurrences per article')\n",
        "plt.title('Token distribution')\n",
        "plt.show()"
      ]
    },
    {
      "cell_type": "code",
      "execution_count": null,
      "metadata": {
        "colab": {
          "base_uri": "https://localhost:8080/"
        },
        "id": "GyQh4WiiG0RW",
        "outputId": "6accb2fd-35fb-4d9f-f2f4-671c6e5dc187"
      },
      "outputs": [
        {
          "name": "stdout",
          "output_type": "stream",
          "text": [
            "dir_tfidf\n",
            "10608\n",
            "                                              directions   fat  \\\n",
            "1      [Combine first 9 ingredients in heavy medium s...  23.0   \n",
            "5      [Mix basil, mayonnaise and butter in processor...  79.0   \n",
            "8      [Stir together soy sauce, sugar, sesame oil, w...  10.0   \n",
            "9      [Chop enough parsley leaves to measure 1 table...  41.0   \n",
            "10     [Heat oil in heavy large skillet over medium-h...   5.0   \n",
            "...                                                  ...   ...   \n",
            "20121  [1. Preheat the oven to 400°F. Spray a baking ...  70.0   \n",
            "20123  [Stir water, sugar and juice in saucepan over ...   0.0   \n",
            "20126  [Bring broth to simmer in saucepan.Remove from...  28.0   \n",
            "20128  [Heat 2 tablespoons oil in heavy medium skille...  24.0   \n",
            "20129  [Position rack in bottom third of oven and pre...  10.0   \n",
            "\n",
            "                           date  \\\n",
            "1     2004-08-20 04:00:00+00:00   \n",
            "5     2004-08-20 04:00:00+00:00   \n",
            "8     2004-08-20 04:00:00+00:00   \n",
            "9     2008-10-23 22:24:26+00:00   \n",
            "10    2004-08-20 04:00:00+00:00   \n",
            "...                         ...   \n",
            "20121 2014-03-21 04:00:00+00:00   \n",
            "20123 2004-08-20 04:00:00+00:00   \n",
            "20126 2008-02-28 22:06:54+00:00   \n",
            "20128 2004-08-20 04:00:00+00:00   \n",
            "20129 2004-08-20 04:00:00+00:00   \n",
            "\n",
            "                                              categories  calories  \\\n",
            "1      [Food Processor, Onion, Pork, Bake, Bastille D...     403.0   \n",
            "5      [Sandwich, Food Processor, Tomato, Kid-Friendl...     948.0   \n",
            "8      [Beef, Ginger, Sauté, Stir-Fry, Quick & Easy, ...     170.0   \n",
            "9      [Salad, Mustard, Potato, Picnic, Lunch, Mayonn...     602.0   \n",
            "10     [Milk/Cream, Dairy, Side, Thanksgiving, Rosema...     256.0   \n",
            "...                                                  ...       ...   \n",
            "20121  [Chicken, Poultry, Bake, Passover, Fennel, Sha...    1086.0   \n",
            "20123  [Sauce, Fruit, Dessert, Quick & Easy, Low Sodi...     182.0   \n",
            "20126  [Side, Kid-Friendly, High Fiber, Dinner, Parme...     671.0   \n",
            "20128  [Milk/Cream, Citrus, Dairy, Fish, Garlic, Past...     631.0   \n",
            "20129  [Pork, Bake, Roast, Christmas, Ham, Winter, Bo...     560.0   \n",
            "\n",
            "                                                    desc  protein  rating  \\\n",
            "1      This uses the same ingredients found in boudin...     18.0   4.375   \n",
            "5      This recipe can be prepared in 45 minutes or l...     19.0   4.375   \n",
            "8                                                Bulgogi      7.0   4.375   \n",
            "9      Transform your picnic into un pique-nique to r...     23.0   3.750   \n",
            "10     Simmering the yams fills them with flavor and ...      4.0   3.750   \n",
            "...                                                  ...      ...     ...   \n",
            "20121                             Kosher Status: Poultry     78.0   5.000   \n",
            "20123  This recipe was created to accompany <epirecip...      1.0   3.750   \n",
            "20126  Cooking the artichokes with the rice infuses t...     22.0   4.375   \n",
            "20128  Sharon Hooykaas of Los Alamitos, California, w...     45.0   4.375   \n",
            "20129  Although labeled fully cooked, the ham will st...     73.0   4.375   \n",
            "\n",
            "                                                   title  \\\n",
            "1            Boudin Blanc Terrine with Red Onion Confit    \n",
            "5                                         The Best Blts    \n",
            "8                                 Korean Marinated Beef    \n",
            "9      Ham Persillade with Mustard Potato Salad and M...   \n",
            "10         Yams Braised with Cream, Rosemary and Nutmeg    \n",
            "...                                                  ...   \n",
            "20121  Crispy Salt and Pepper Chicken with Caramelize...   \n",
            "20123                                 Blueberry Compote    \n",
            "20126                    Artichoke and Parmesan Risotto    \n",
            "20128           Snapper on Angel Hair with Citrus Cream    \n",
            "20129        Baked Ham with Marmalade-Horseradish Glaze    \n",
            "\n",
            "                                             ingredients  sodium  \\\n",
            "1      [1 1/2 cups whipping cream, 2 medium onions, c...  1439.0   \n",
            "5      [2 1/2 cups (lightly packed) fresh basil leave...  1042.0   \n",
            "8      [1/4 cup soy sauce, 1 tablespoon sugar, 2 teas...  1272.0   \n",
            "9      [6 long parsley sprigs, divided, 1 3/4 cups re...  1696.0   \n",
            "10     [4 teaspoons olive oil, 1/2 cup finely chopped...    30.0   \n",
            "...                                                  ...     ...   \n",
            "20121  [Cooking spray, One 3 1/2-pound chicken, cut i...  1323.0   \n",
            "20123  [1/2 cup plus 2 tablespoons water, 1/2 cup sug...     3.0   \n",
            "20126  [5 1/2 cups (or more) low-salt chicken broth, ...   583.0   \n",
            "20128  [4 tablespoons olive oil, 4 shallots, thinly s...   517.0   \n",
            "20129  [1 18-pound fully cooked bone-in smoked ham, r...  3698.0   \n",
            "\n",
            "                                       desc_preprocessed  \\\n",
            "1      [us, ingredient, found, boudin, blanc, classic...   \n",
            "5                   [recipe, prepared, 45, minute, less]   \n",
            "8                                              [bulgogi]   \n",
            "9      [transform, picnic, un, remember, elegant, arr...   \n",
            "10     [simmering, yam, fill, flavor, yield, lovely, ...   \n",
            "...                                                  ...   \n",
            "20121                          [kosher, status, poultry]   \n",
            "20123  [recipe, created, accompany, epirecipelink, 24...   \n",
            "20126  [cooking, artichoke, rice, infuses, risotto, f...   \n",
            "20128  [sharon, hooykaas, los, alamitos, california, ...   \n",
            "20129  [although, labeled, fully, cooked, ham, still,...   \n",
            "\n",
            "                                        dir_preprocessed  \\\n",
            "1      [combine, first, 9, ingredient, heavy, medium,...   \n",
            "5      [mix, basil, mayonnaise, butter, processor, ba...   \n",
            "8      [stir, together, soy, sauce, sugar, sesame, oi...   \n",
            "9      [chop, enough, parsley, leaf, measure, 1, tabl...   \n",
            "10     [heat, oil, heavy, large, skillet, heat, add, ...   \n",
            "...                                                  ...   \n",
            "20121  [1, preheat, oven, spray, baking, sheet, cooki...   \n",
            "20123  [stir, water, sugar, juice, saucepan, low, hea...   \n",
            "20126  [bring, broth, simmer, heat, cover, keep, warm...   \n",
            "20128  [heat, 2, tablespoon, oil, heavy, medium, skil...   \n",
            "20129  [position, rack, bottom, third, oven, preheat,...   \n",
            "\n",
            "                                               dir_tfidf  \n",
            "1      [(0, 0.010851398076192962), (1, 0.043136459359...  \n",
            "5      [(0, 0.03194346944286264), (2, 0.0218938206631...  \n",
            "8      [(0, 0.03499829591750255), (1, 0.0695625834977...  \n",
            "9      [(0, 0.042439030537309054), (6, 0.035786747504...  \n",
            "10     [(0, 0.014077588081508125), (3, 0.031957078328...  \n",
            "...                                                  ...  \n",
            "20121  [(0, 0.02097935509247367), (2, 0.0287581935234...  \n",
            "20123  [(2, 0.067030306657861), (9, 0.042937805565448...  \n",
            "20126  [(0, 0.06542840497646905), (2, 0.0224220754635...  \n",
            "20128  [(0, 0.01781455905317751), (2, 0.0244199373397...  \n",
            "20129  [(0, 0.013044795373940037), (1, 0.025927824301...  \n",
            "\n",
            "[10608 rows x 14 columns]\n",
            "[(0, 0.014842865276995448), (2, 0.010173191458860854), (3, 0.016847154694921727), (9, 0.013033343829687476), (17, 0.07939049030946002), (18, 0.006732473393036334), (21, 0.021344102242596478), (32, 0.016086187439727073), (42, 0.04657582688170882), (51, 0.019971960355972422), (54, 0.02059733786496689), (63, 0.014578286776854688), (65, 0.023619475386640568), (66, 0.013218834789307665), (73, 0.022225886741190276), (75, 0.076061002568115), (87, 0.01560911192105153), (91, 0.005689511280885104), (105, 0.0688011320626816), (106, 0.03005684856305545), (107, 0.029164259243890125), (108, 0.01891443014125902), (113, 0.022162325986521292), (118, 0.03270098110691252), (126, 0.17830000039478228), (131, 0.031877396953270576), (147, 0.03171310257694078), (166, 0.02237115299930194), (168, 0.02123949622360093), (170, 0.05562267263760741), (173, 0.037882619473835345), (184, 0.040295027513415745), (198, 0.05348355953317369), (210, 0.02390226076388958), (241, 0.14188628853685958), (249, 0.13274322171896633), (255, 0.07600705279005432), (259, 0.11421311054465463), (267, 0.022951754787525827), (300, 0.05003470319190763), (340, 0.03081152115469407), (384, 0.07876394675324323), (414, 0.0340469097174521), (434, 0.05907183448881555), (442, 0.060680897463899666), (487, 0.045498208899482646), (506, 0.06818155821051304), (554, 0.07103641786328113), (559, 0.07135551315424057), (593, 0.0892400204411925), (601, 0.16104288272626036), (656, 0.11564580026774599), (660, 0.05694744457512448), (685, 0.07072268577303681), (697, 0.12118056525190496), (752, 0.0667449557038547), (939, 0.0661267992199114), (1007, 0.06668221070373295), (1081, 0.08597704441711915), (1232, 0.09268534231577845), (1320, 0.07876394675324323), (1509, 0.11294215797310117), (1535, 0.12127282971117233), (1572, 0.22588431594620234), (1581, 0.18292973439329002), (1795, 0.7703325565425123), (1796, 0.08397513285953816), (1989, 0.08966428006642581), (2136, 0.10416877884587973)]\n"
          ]
        },
        {
          "name": "stderr",
          "output_type": "stream",
          "text": [
            "<ipython-input-12-c5bcb2048f00>:7: SettingWithCopyWarning: \n",
            "A value is trying to be set on a copy of a slice from a DataFrame.\n",
            "Try using .loc[row_indexer,col_indexer] = value instead\n",
            "\n",
            "See the caveats in the documentation: https://pandas.pydata.org/pandas-docs/stable/user_guide/indexing.html#returning-a-view-versus-a-copy\n",
            "  data_clean['dir_tfidf'] = dir_tfidf\n"
          ]
        }
      ],
      "source": [
        "# Vectorización TF-IDF\n",
        "from gensim.models import TfidfModel\n",
        "tfidf = TfidfModel(corpus_bow)\n",
        "dir_tfidf = tfidf[corpus_bow]\n",
        "print(\"dir_tfidf\")\n",
        "print(len(dir_tfidf))\n",
        "data_clean['dir_tfidf'] = dir_tfidf\n",
        "print(data_clean)\n",
        "n_project = 1000\n",
        "print(dir_tfidf[n_project])"
      ]
    },
    {
      "cell_type": "code",
      "execution_count": null,
      "metadata": {
        "colab": {
          "base_uri": "https://localhost:8080/"
        },
        "id": "cpZYBQyP1IZJ",
        "outputId": "9d169487-448d-49a9-857b-08158c59bf32"
      },
      "outputs": [
        {
          "name": "stdout",
          "output_type": "stream",
          "text": [
            "The dictionary contains 12281 terms\n",
            "First terms in the dictionary:\n",
            "0 : blanc\n",
            "1 : boudin\n",
            "2 : classic\n",
            "3 : day\n",
            "4 : found\n",
            "5 : french\n",
            "6 : ingredient\n",
            "7 : sausage\n",
            "8 : serving\n",
            "9 : start\n",
            "The dictionary contains 2280 terms\n",
            "First terms in the dictionary:\n",
            "0 : blanc\n",
            "1 : classic\n",
            "2 : day\n",
            "3 : found\n",
            "4 : french\n",
            "5 : ingredient\n",
            "6 : sausage\n",
            "7 : serving\n",
            "8 : start\n",
            "9 : two\n",
            "10 : us\n",
            "11 : white\n",
            "12 : 45\n",
            "13 : less\n",
            "14 : minute\n",
            "15 : prepared\n",
            "16 : recipe\n",
            "17 : elegant\n",
            "18 : gently\n",
            "19 : ham\n"
          ]
        },
        {
          "name": "stderr",
          "output_type": "stream",
          "text": [
            "<ipython-input-13-9eb222238bc0>:23: SettingWithCopyWarning: \n",
            "A value is trying to be set on a copy of a slice from a DataFrame.\n",
            "Try using .loc[row_indexer,col_indexer] = value instead\n",
            "\n",
            "See the caveats in the documentation: https://pandas.pydata.org/pandas-docs/stable/user_guide/indexing.html#returning-a-view-versus-a-copy\n",
            "  data_clean['desc_tfidf'] = desc_tfidf\n"
          ]
        }
      ],
      "source": [
        "#TF_IDF del campo desc\n",
        "Ddesc = gensim.corpora.Dictionary(desc_preprocessed)\n",
        "n_tokens = len(Ddesc)\n",
        "\n",
        "print('The dictionary contains', n_tokens, 'terms')\n",
        "print('First terms in the dictionary:')\n",
        "for n in range(10):\n",
        "    print(str(n), ':', Ddesc[n])\n",
        "\n",
        "Ddesc.filter_extremes(no_below=no_below, no_above=no_above, keep_n=25000)\n",
        "n_tokens = len(Ddesc)\n",
        "# </SOL>\n",
        "\n",
        "print('The dictionary contains', n_tokens, 'terms')\n",
        "print('First terms in the dictionary:')\n",
        "for n in range(20):\n",
        "    print(str(n), ':', Ddesc[n])\n",
        "\n",
        "desc_bow = [Ddesc.doc2bow(doc) for doc in desc_preprocessed]\n",
        "\n",
        "tfidf_desc = TfidfModel(desc_bow)\n",
        "desc_tfidf = tfidf_desc[desc_bow]\n",
        "data_clean['desc_tfidf'] = desc_tfidf\n",
        "\n"
      ]
    },
    {
      "cell_type": "code",
      "execution_count": null,
      "metadata": {
        "colab": {
          "base_uri": "https://localhost:8080/",
          "height": 472
        },
        "id": "UAWJKA1b9FbR",
        "outputId": "0a13d429-5450-43e9-9d2d-07c5d5999df8"
      },
      "outputs": [
        {
          "data": {
            "image/png": "[encoded data removed]",
            "text/plain": [
              "<Figure size 640x480 with 1 Axes>"
            ]
          },
          "metadata": {},
          "output_type": "display_data"
        }
      ],
      "source": [
        "#Representación de los tokens para DIRECTIONS\n",
        "# SORTED TOKEN FREQUENCIES (I):\n",
        "# Create a \"flat\" corpus with all tuples in a single list\n",
        "corpus_bow_flat = [item for sublist in desc_bow for item in sublist]\n",
        "\n",
        "# Initialize a numpy array that we will use to count tokens.\n",
        "# token_count[n] should store the number of ocurrences of the n-th token, D[n]\n",
        "token_count = np.zeros(n_tokens)\n",
        "\n",
        "# Count the number of occurrences of each token.\n",
        "for x in corpus_bow_flat:\n",
        "    # Update the proper element in token_count\n",
        "\n",
        "    token_count[x[0]] += x[1]\n",
        "\n",
        "# Sort by decreasing number of occurences\n",
        "ids_sorted = np.argsort(- token_count)\n",
        "tf_sorted = token_count[ids_sorted]\n",
        "\n",
        "# SORTED TOKEN FREQUENCIES (II):\n",
        "plt.rcdefaults()\n",
        "\n",
        "n_art = len(data)\n",
        "n_bins = 25\n",
        "hot_tokens = [D[i] for i in ids_sorted[n_bins-1::-1]]\n",
        "y_pos = np.arange(len(hot_tokens))\n",
        "z = tf_sorted[n_bins-1::-1]/n_art\n",
        "\n",
        "plt.figure()\n",
        "plt.barh(y_pos, z, align='center', alpha=0.4)\n",
        "plt.yticks(y_pos, hot_tokens)\n",
        "plt.xlabel('Average number of occurrences per article')\n",
        "plt.title('Token distribution')\n",
        "plt.show()"
      ]
    },
    {
      "cell_type": "code",
      "execution_count": null,
      "metadata": {
        "id": "4ch4I_TU1IZK"
      },
      "outputs": [],
      "source": [
        "#RANDOM-FOREST\n",
        "from scipy.sparse import hstack\n",
        "from gensim.matutils import corpus2csc\n",
        "\n",
        "from sklearn.feature_selection import SelectKBest, f_regression\n",
        "from sklearn.decomposition import PCA\n",
        "from scipy.sparse import csr_matrix\n",
        "\n",
        "# Seleccionamos las K mejores características del TF-IDF\n",
        "selector = SelectKBest(f_regression, k=100)  # Selecciona 100 características más relevantes\n",
        "\n",
        "x_data_dir = data_clean['dir_tfidf'].tolist()\n",
        "\n",
        "# Convertimos TF-IDF corpus a una matriz dispersa (sparse matrix)\n",
        "\n",
        "sparse_tfidf_matrix_dir = corpus2csc(x_data_dir).T  # Transponer porque corpus2csc devuelve palabras como filas\n",
        "dense_tfidf_matrix_dir = sparse_tfidf_matrix_dir.toarray()\n",
        "\n",
        "# Reducimos la dimensionalidad con PCA\n",
        "pca = PCA(n_components=100)  # Reducir a 100 componentes principales\n",
        "tfidf_reduced_dir = pca.fit_transform(dense_tfidf_matrix_dir)\n",
        "\n",
        "x_data_desc = data_clean['desc_tfidf'].tolist()\n",
        "\n",
        "# Convertimos TF-IDF corpus a una matriz dispersa (sparse matrix)\n",
        "sparse_tfidf_matrix_desc = corpus2csc(x_data_desc).T  # Transponer porque corpus2csc devuelve palabras como filas\n",
        "dense_tfidf_matrix_desc = sparse_tfidf_matrix_desc.toarray()\n",
        "\n",
        "# Reducimos dimensionalidad con PCA\n",
        "pca = PCA(n_components=100)  # Reducir a 100 componentes principales\n",
        "tfidf_reduced_desc = pca.fit_transform(dense_tfidf_matrix_desc)\n",
        "\n",
        "numerical_features = data_clean[['calories', 'protein', 'fat', 'sodium']].values\n",
        "\n",
        "\n",
        "numerical_features_sparse = csr_matrix(numerical_features)\n",
        "# Combinamos TF-IDF reducido con las columnas numéricas\n",
        "x_data_combined = hstack([tfidf_reduced_dir,numerical_features_sparse])\n",
        "\n",
        "from sklearn.preprocessing import MultiLabelBinarizer\n",
        "\n",
        "# Convertimos las categorías en variables binarias\n",
        "mlb = MultiLabelBinarizer()\n",
        "categories_encoded = pd.DataFrame(\n",
        "    mlb.fit_transform(data_clean['categories']),\n",
        "    columns=mlb.classes_,\n",
        "    index=data_clean.index\n",
        ")\n",
        "\n",
        "# Añadimos las categorías codificadas al DataFrame original\n",
        "categories_sparse = csr_matrix(categories_encoded.values)\n",
        "\n",
        "x_data_combined = hstack([x_data_combined, categories_sparse])\n",
        "\n"
      ]
    },
    {
      "cell_type": "code",
      "execution_count": null,
      "metadata": {
        "colab": {
          "base_uri": "https://localhost:8080/"
        },
        "id": "Hh0Snpk1hyhu",
        "outputId": "ace64472-9ae5-4c1c-eeea-e65d8c7894ea"
      },
      "outputs": [
        {
          "name": "stdout",
          "output_type": "stream",
          "text": [
            "MSE: 1.2831556186137387\n",
            "MAE: 0.7521528949998282\n",
            "R2: 0.1939961107556858\n"
          ]
        }
      ],
      "source": [
        "#RANDOM-FOREST\n",
        "from sklearn.metrics import mean_absolute_error as mae, mean_squared_error as mse, r2_score as r2\n",
        "from sklearn.ensemble import RandomForestRegressor\n",
        "from sklearn.model_selection import GridSearchCV\n",
        "from sklearn.preprocessing import StandardScaler\n",
        "from sklearn.model_selection import train_test_split\n",
        "import numpy as np\n",
        "\n",
        "np.random.seed(42)\n",
        "\n",
        "# Obtenemos x_data (TF-IDF corpus) e y_data\n",
        "y_data = data_clean['rating']\n",
        "\n",
        "\n",
        "# Dividimos los datos en conjuntos de entrenamiento y prueba\n",
        "X_train, X_test, Y_train, Y_test = train_test_split(x_data_combined, y_data, test_size=0.20, random_state=42)\n",
        "\n",
        "# Dividimos el conjunto de entrenamiento en train_val y val\n",
        "X_train_val, X_val, Y_train_val, Y_val = train_test_split(X_train, Y_train, test_size=0.30, random_state=42)\n",
        "\n",
        "# Convertimos a matriz densa para usar con StandardScaler\n",
        "X_train_val = X_train_val.toarray()\n",
        "X_val = X_val.toarray()\n",
        "X_test = X_test.toarray()\n",
        "\n",
        "# Escalamos los datos\n",
        "scaler = StandardScaler()\n",
        "X_train_val_scaled = scaler.fit_transform(X_train_val)\n",
        "X_val_scaled = scaler.transform(X_val)\n",
        "X_test_scaled = scaler.transform(X_test)\n",
        "\n",
        "# Configuramos el modelo Random Forest y la búsqueda en cuadrícula\n",
        "#rf = RandomForestRegressor(random_state=42)\n",
        "\n",
        "param_grid = {\n",
        "    'n_estimators': [100, 200, 300, 500],\n",
        "    'max_depth': [10, 20, 30, 50],\n",
        "    'min_samples_split': [2, 5, 10],\n",
        "    'min_samples_leaf': [1, 2, 4],\n",
        "    'max_features': [ 'None', 'sqrt']\n",
        "}\n",
        "\n",
        "#grid_search = GridSearchCV(estimator=rf, param_grid=param_grid, cv=5, n_jobs=-1, verbose=2, scoring='neg_mean_squared_error')\n",
        "\n",
        "# Entrenamos el modelo con la búsqueda de hiperparámetros\n",
        "#grid_search.fit(X_train_val_scaled, Y_train_val)\n",
        "#best_params = grid_search.best_params_\n",
        "\n",
        "#print(\"Best parameters found:\", best_params)\n",
        "\n",
        "# Entrenamos el modelo con los mejores parámetros\n",
        "model_original = RandomForestRegressor(\n",
        "    n_estimators=500,\n",
        "    max_depth=50,\n",
        "    min_samples_split=2,\n",
        "    min_samples_leaf=1,\n",
        "    max_features='sqrt',\n",
        "    random_state=42)\n",
        "model_original.fit(X_train_val_scaled, Y_train_val)\n",
        "Y_predict = model_original.predict(X_test_scaled)\n",
        "\n",
        "# Evaluamos el modelo\n",
        "MSE_original = mse(Y_test, Y_predict)\n",
        "MAE_original = mae(Y_test, Y_predict)\n",
        "R2_original = r2(Y_test, Y_predict)\n",
        "\n",
        "print(f\"MSE: {MSE_original}\")\n",
        "print(f\"MAE: {MAE_original}\")\n",
        "print(f\"R2: {R2_original}\")"
      ]
    },
    {
      "cell_type": "code",
      "execution_count": null,
      "metadata": {
        "id": "OvrIunU01IZL",
        "outputId": "86bb855a-640d-4009-8810-b01a74d142e1"
      },
      "outputs": [
        {
          "name": "stdout",
          "output_type": "stream",
          "text": [
            "Best parameters found: {'max_depth': 50, 'max_features': 'sqrt', 'min_samples_leaf': 1, 'min_samples_split': 2, 'n_estimators': 300}\n"
          ]
        }
      ],
      "source": [
        "print(\"Best parameters found:\", best_params)"
      ]
    },
    {
      "cell_type": "code",
      "execution_count": null,
      "metadata": {
        "colab": {
          "base_uri": "https://localhost:8080/"
        },
        "id": "q7l9BS6-6HbT",
        "outputId": "eb6fc9dd-711a-42f7-c30a-2f732658e5d1"
      },
      "outputs": [
        {
          "name": "stdout",
          "output_type": "stream",
          "text": [
            "Epoch 1, Training Loss: 3857.4758\n",
            "Epoch 2, Training Loss: 1619.9856\n",
            "Epoch 3, Training Loss: 428.4239\n",
            "Epoch 4, Training Loss: 348.3621\n",
            "Epoch 5, Training Loss: 324.6328\n",
            "Epoch 6, Training Loss: 309.2718\n",
            "Epoch 7, Training Loss: 297.3664\n",
            "Epoch 8, Training Loss: 286.6467\n",
            "Epoch 9, Training Loss: 276.7164\n",
            "Epoch 10, Training Loss: 267.9427\n",
            "Epoch 11, Training Loss: 261.0296\n",
            "Epoch 12, Training Loss: 252.4157\n",
            "Epoch 13, Training Loss: 244.3835\n",
            "Epoch 14, Training Loss: 237.4868\n",
            "Epoch 15, Training Loss: 228.8851\n",
            "Epoch 16, Training Loss: 221.5492\n",
            "Epoch 17, Training Loss: 214.6377\n",
            "Epoch 18, Training Loss: 206.2852\n",
            "Epoch 19, Training Loss: 198.2943\n",
            "Epoch 20, Training Loss: 191.3843\n",
            "Test loss: 1.6049351692199707\n",
            "R^2 Score: 0.0008\n"
          ]
        }
      ],
      "source": [
        "import torch\n",
        "import torch.nn as nn\n",
        "import torch.optim as optim\n",
        "from sklearn.model_selection import train_test_split\n",
        "from sklearn.metrics import r2_score\n",
        "from sklearn.preprocessing import StandardScaler\n",
        "from torch.utils.data import DataLoader, TensorDataset\n",
        "import numpy as np\n",
        "import random\n",
        "\n",
        "\n",
        "random_state = 10\n",
        "# Fijamos las semillas para reproducibilidad\n",
        "def set_seed(seed=42):\n",
        "    random.seed(seed)\n",
        "    np.random.seed(seed)\n",
        "    torch.manual_seed(seed)\n",
        "    if torch.cuda.is_available():\n",
        "        torch.cuda.manual_seed(seed)\n",
        "        torch.cuda.manual_seed_all(seed)\n",
        "        torch.backends.cudnn.deterministic = True\n",
        "        torch.backends.cudnn.benchmark = False\n",
        "\n",
        "set_seed(random_state)\n",
        "\n",
        "# Definición del modelo\n",
        "class RegressionNN(nn.Module):\n",
        "    def __init__(self, input_dim):\n",
        "        super(RegressionNN, self).__init__()\n",
        "        self.fc = nn.Sequential(\n",
        "            nn.Linear(input_dim, 50),\n",
        "            nn.ReLU(),\n",
        "            nn.Linear(50, 25),\n",
        "            nn.ReLU(),\n",
        "            nn.Linear(25, 1)\n",
        "        )\n",
        "    def forward(self, x):\n",
        "        return self.fc(x)\n",
        "\n",
        "\n",
        "def NN_eval(X, y):\n",
        "    # Estandarizamos los datos\n",
        "    scaler = StandardScaler()\n",
        "    X = scaler.fit_transform(X)\n",
        "\n",
        "    # Train-test split\n",
        "    X_train, X_test, y_train, y_test = train_test_split(X, y, test_size=0.2, random_state=random_state)\n",
        "\n",
        "    # Convertimos a tensores\n",
        "    X_train_tensor = torch.tensor(X_train, dtype=torch.float32)\n",
        "    y_train_tensor = torch.tensor(y_train, dtype=torch.float32).unsqueeze(1)\n",
        "\n",
        "    # Creamos DataLoader\n",
        "    train_dataset = TensorDataset(X_train_tensor, y_train_tensor)\n",
        "    train_loader = DataLoader(train_dataset, batch_size=32, shuffle=True)\n",
        "\n",
        "    # Inicializamos modelo, función de pérdida y optimizador\n",
        "    model = RegressionNN(input_dim=X_train.shape[1])\n",
        "    criterion = nn.MSELoss()\n",
        "    optimizer = optim.Adam(model.parameters(), lr=0.0001)\n",
        "\n",
        "    # Entrenamiento\n",
        "    for epoch in range(20):\n",
        "        model.train()\n",
        "        epoch_loss = 0\n",
        "        for X_batch, y_batch in train_loader:\n",
        "            optimizer.zero_grad()\n",
        "            predictions = model(X_batch)\n",
        "            loss = criterion(predictions, y_batch)\n",
        "            loss.backward()\n",
        "            optimizer.step()\n",
        "            epoch_loss += loss.item()\n",
        "        print(f\"Epoch {epoch+1}, Training Loss: {epoch_loss:.4f}\")\n",
        "\n",
        "    # Evaluación del modelo\n",
        "    model.eval()\n",
        "    with torch.no_grad():\n",
        "        X_test_tensor = torch.tensor(X_test, dtype=torch.float32)\n",
        "        y_test_tensor = torch.tensor(y_test, dtype=torch.float32).unsqueeze(1)\n",
        "        predictions = model(X_test_tensor)\n",
        "        test_loss = criterion(predictions, y_test_tensor)\n",
        "        print(f\"Test loss: {test_loss.item()}\")\n",
        "\n",
        "        # Convertimos a NumPy y cálculo de R^2\n",
        "        predictions_np = predictions.cpu().numpy()\n",
        "        r2 = r2_score(y_test, predictions_np)\n",
        "        print(f\"R^2 Score: {r2:.4f}\")\n",
        "\n",
        "NN_eval(x_data_combined.toarray(), data_clean['rating'].tolist())\n"
      ]
    }
  ],
  "metadata": {
    "colab": {
      "provenance": []
    },
    "kernelspec": {
      "display_name": "Python 3",
      "name": "python3"
    },
    "language_info": {
      "codemirror_mode": {
        "name": "ipython",
        "version": 3
      },
      "file_extension": ".py",
      "mimetype": "text/x-python",
      "name": "python",
      "nbconvert_exporter": "python",
      "pygments_lexer": "ipython3",
      "version": "3.10.11"
    }
  },
  "nbformat": 4,
  "nbformat_minor": 0
}
